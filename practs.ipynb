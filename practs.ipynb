{
 "cells": [
  {
   "cell_type": "markdown",
   "id": "385cb695",
   "metadata": {},
   "source": [
    "<h1> 😊 Hello world 😊 </h1>"
   ]
  },
  {
   "cell_type": "code",
   "execution_count": 1,
   "id": "f73d3251",
   "metadata": {},
   "outputs": [
    {
     "name": "stdout",
     "output_type": "stream",
     "text": [
      "hello world\n"
     ]
    }
   ],
   "source": [
    "print(\"hello world\")"
   ]
  },
  {
   "cell_type": "markdown",
   "id": "13822356",
   "metadata": {},
   "source": [
    "<h2>Practical-1</h2>"
   ]
  },
  {
   "cell_type": "markdown",
   "id": "1c5fc93d",
   "metadata": {},
   "source": [
    "\n",
    "<li>Program 1</li>\n"
   ]
  },
  {
   "cell_type": "code",
   "execution_count": 2,
   "id": "d5b93af9",
   "metadata": {
    "scrolled": true
   },
   "outputs": [
    {
     "name": "stdout",
     "output_type": "stream",
     "text": [
      "Enter name 1: bhavik\n",
      "Enter name 2: prajapati\n",
      "bhavik prajapati\n"
     ]
    }
   ],
   "source": [
    "str1=input(\"Enter name 1: \")\n",
    "str2=input(\"Enter name 2: \")\n",
    "print(str1+\" \"+str2)"
   ]
  },
  {
   "cell_type": "markdown",
   "id": "2794f27c",
   "metadata": {},
   "source": [
    "\n",
    "<li>Program 2</li>\n"
   ]
  },
  {
   "cell_type": "code",
   "execution_count": 3,
   "id": "99b91a67",
   "metadata": {},
   "outputs": [
    {
     "name": "stdout",
     "output_type": "stream",
     "text": [
      "enter date : 27/12/2000\n",
      "2000-12-27 00:00:00\n",
      "21\n",
      "   December 2000\n",
      "Mo Tu We Th Fr Sa Su\n",
      "             1  2  3\n",
      " 4  5  6  7  8  9 10\n",
      "11 12 13 14 15 16 17\n",
      "18 19 20 21 22 23 24\n",
      "25 26 27 28 29 30 31\n",
      "\n"
     ]
    }
   ],
   "source": [
    "\n",
    "from datetime import datetime\n",
    "\n",
    "import calendar\n",
    "def calculateAge(birthDate):\n",
    "    today = date.today()\n",
    "    age = today.year - birthDate.year -((today.month, today.day) <(birthDate.month, birthDate.day))\n",
    "    return age\n",
    "\n",
    "date_string=input(\"enter date : \")\n",
    "\n",
    "# date_string = \"21 June, 2018\"\n",
    "\n",
    "\n",
    "date =datetime.strptime(date_string, '%d/%m/%Y')\n",
    "\n",
    "print(date)\n",
    "print(calculateAge(date))\n",
    "print(calendar.month(date.year,date.month))"
   ]
  },
  {
   "cell_type": "markdown",
   "id": "cb681d56",
   "metadata": {},
   "source": [
    "<li>Program 3</li>"
   ]
  },
  {
   "cell_type": "code",
   "execution_count": 4,
   "id": "d7ad519e",
   "metadata": {},
   "outputs": [
    {
     "name": "stdout",
     "output_type": "stream",
     "text": [
      "Enter value 27\n",
      "The decimal value of 27 is:\n",
      "0b11011 in binary.\n",
      "0o33 in octal.\n",
      "0x1b in hexadecimal.\n"
     ]
    }
   ],
   "source": [
    "dec = int(input(\"Enter value \"))\n",
    "\n",
    "print(\"The decimal value of\", dec, \"is:\")\n",
    "print(bin(dec), \"in binary.\")\n",
    "print(oct(dec), \"in octal.\")\n",
    "print(hex(dec), \"in hexadecimal.\")"
   ]
  },
  {
   "cell_type": "markdown",
   "id": "b67c56c0",
   "metadata": {},
   "source": [
    "<li>Program 4</li>\n"
   ]
  },
  {
   "cell_type": "code",
   "execution_count": 5,
   "id": "1a8d3994",
   "metadata": {},
   "outputs": [
    {
     "name": "stdout",
     "output_type": "stream",
     "text": [
      "WELCOME TO A SIMPLE CALCULATOR\n",
      "\n",
      "MENU\n",
      "1. Sum of two Numbers\n",
      "2. Difference between two Numbers\n",
      "3. Product of two Numbers\n",
      "4. Division of two Numbers\n",
      "5. Exit\n",
      "\n",
      "Enter the Choice: 1\n",
      "\n",
      "ADDITION\n",
      "\n",
      "First Number: 10\n",
      "Second Number: 20\n",
      "10 + 20 = 30\n",
      "\n",
      "MENU\n",
      "1. Sum of two Numbers\n",
      "2. Difference between two Numbers\n",
      "3. Product of two Numbers\n",
      "4. Division of two Numbers\n",
      "5. Exit\n",
      "\n",
      "Enter the Choice: 1\n",
      "\n",
      "ADDITION\n",
      "\n",
      "First Number: 10\n",
      "Second Number: 20\n",
      "10 + 20 = 30\n",
      "\n",
      "MENU\n",
      "1. Sum of two Numbers\n",
      "2. Difference between two Numbers\n",
      "3. Product of two Numbers\n",
      "4. Division of two Numbers\n",
      "5. Exit\n",
      "\n",
      "Enter the Choice: 4\n",
      "\n",
      "DIVISION\n",
      "\n",
      "First Number: 5\n",
      "Second Number: \n"
     ]
    },
    {
     "ename": "ValueError",
     "evalue": "invalid literal for int() with base 10: ''",
     "output_type": "error",
     "traceback": [
      "\u001b[1;31m---------------------------------------------------------------------------\u001b[0m",
      "\u001b[1;31mValueError\u001b[0m                                Traceback (most recent call last)",
      "Input \u001b[1;32mIn [5]\u001b[0m, in \u001b[0;36m<cell line: 25>\u001b[1;34m()\u001b[0m\n\u001b[0;32m     53\u001b[0m     \u001b[38;5;28mprint\u001b[39m( \u001b[38;5;124m\"\u001b[39m\u001b[38;5;130;01m\\n\u001b[39;00m\u001b[38;5;124mDIVISION\u001b[39m\u001b[38;5;130;01m\\n\u001b[39;00m\u001b[38;5;124m\"\u001b[39m)  \n\u001b[0;32m     54\u001b[0m     a \u001b[38;5;241m=\u001b[39m \u001b[38;5;28mint\u001b[39m( \u001b[38;5;28minput\u001b[39m(\u001b[38;5;124m\"\u001b[39m\u001b[38;5;124mFirst Number: \u001b[39m\u001b[38;5;124m\"\u001b[39m))  \n\u001b[1;32m---> 55\u001b[0m     b \u001b[38;5;241m=\u001b[39m \u001b[38;5;28;43mint\u001b[39;49m\u001b[43m(\u001b[49m\u001b[43m \u001b[49m\u001b[38;5;28;43minput\u001b[39;49m\u001b[43m(\u001b[49m\u001b[38;5;124;43m\"\u001b[39;49m\u001b[38;5;124;43mSecond Number: \u001b[39;49m\u001b[38;5;124;43m\"\u001b[39;49m\u001b[43m)\u001b[49m\u001b[43m)\u001b[49m  \n\u001b[0;32m     56\u001b[0m     divide(a, b)  \n\u001b[0;32m     58\u001b[0m \u001b[38;5;28;01melif\u001b[39;00m choice \u001b[38;5;241m==\u001b[39m \u001b[38;5;241m5\u001b[39m:  \n",
      "\u001b[1;31mValueError\u001b[0m: invalid literal for int() with base 10: ''"
     ]
    }
   ],
   "source": [
    "def add(a, b):  \n",
    "    sum = a + b  \n",
    "    print(a, \"+\", b, \"=\", sum)  \n",
    "  \n",
    "\n",
    "def subtract(a, b):  \n",
    "    difference = a - b  \n",
    "    print(a, \"-\", b, \"=\", difference)  \n",
    "  \n",
    "\n",
    "def multiply(a, b):  \n",
    "    product = a * b  \n",
    "    print(a, \"x\", b, \"=\", product)  \n",
    "  \n",
    "\n",
    "def divide(a, b):  \n",
    "    division = a / b  \n",
    "    print(a, \"/\", b, \"=\", division)  \n",
    "  \n",
    "\n",
    "print(\"WELCOME TO A SIMPLE CALCULATOR\")  \n",
    "  \n",
    "\n",
    "while True:  \n",
    "    print(\"\\nMENU\")  \n",
    "    print(\"1. Sum of two Numbers\")  \n",
    "    print(\"2. Difference between two Numbers\")  \n",
    "    print(\"3. Product of two Numbers\")  \n",
    "    print(\"4. Division of two Numbers\")  \n",
    "    print(\"5. Exit\")  \n",
    "    choice = int(input(\"\\nEnter the Choice: \"))  \n",
    "  \n",
    "\n",
    "    if choice == 1:  \n",
    "        print( \"\\nADDITION\\n\")  \n",
    "        a = int( input(\"First Number: \"))  \n",
    "        b = int( input(\"Second Number: \"))  \n",
    "        add(a, b)  \n",
    "  \n",
    "    elif choice == 2:  \n",
    "        print( \"\\nSUBTRACTION\\n\")  \n",
    "        a = int( input(\"First Number: \"))  \n",
    "        b = int( input(\"Second Number: \"))  \n",
    "        subtract(a, b)  \n",
    "  \n",
    "    elif choice == 3:  \n",
    "        print( \"\\nMULTIPLICATION\\n\")  \n",
    "        a = int( input(\"First Number: \"))  \n",
    "        b = int( input(\"Second Number: \"))  \n",
    "        multiply(a, b)  \n",
    "  \n",
    "    elif choice == 4:  \n",
    "        print( \"\\nDIVISION\\n\")  \n",
    "        a = int( input(\"First Number: \"))  \n",
    "        b = int( input(\"Second Number: \"))  \n",
    "        divide(a, b)  \n",
    "  \n",
    "    elif choice == 5:  \n",
    "        break  \n",
    "      \n",
    "    else:  \n",
    "        print( \"Please Provide a valid Input!\")  "
   ]
  },
  {
   "cell_type": "markdown",
   "id": "5924ca73",
   "metadata": {},
   "source": [
    "<li>Program 5</li>\n"
   ]
  },
  {
   "cell_type": "code",
   "execution_count": 14,
   "id": "2350100f",
   "metadata": {},
   "outputs": [
    {
     "name": "stdout",
     "output_type": "stream",
     "text": [
      "largest even: 40\n",
      "largest odd: 15\n",
      "count of even: 3\n",
      "count of odd: 1\n"
     ]
    }
   ],
   "source": [
    "def find_large(list):\n",
    "    even = [x for x in list if x%2==0]\n",
    "    odd = [x for x in list if x%2==1]\n",
    "    print(\"largest even:\",max(even))\n",
    "    print(\"largest odd:\",max(odd))\n",
    "    print(\"count of even:\",len(even))\n",
    "    print(\"count of odd:\",len(odd))\n",
    "list = [10,15,40,20]\n",
    "find_large(list)\n",
    "    "
   ]
  },
  {
   "cell_type": "code",
   "execution_count": null,
   "id": "141c02f6",
   "metadata": {},
   "outputs": [],
   "source": []
  },
  {
   "cell_type": "code",
   "execution_count": null,
   "id": "258a0871",
   "metadata": {},
   "outputs": [],
   "source": []
  }
 ],
 "metadata": {
  "kernelspec": {
   "display_name": "Python 3 (ipykernel)",
   "language": "python",
   "name": "python3"
  },
  "language_info": {
   "codemirror_mode": {
    "name": "ipython",
    "version": 3
   },
   "file_extension": ".py",
   "mimetype": "text/x-python",
   "name": "python",
   "nbconvert_exporter": "python",
   "pygments_lexer": "ipython3",
   "version": "3.9.12"
  }
 },
 "nbformat": 4,
 "nbformat_minor": 5
}
