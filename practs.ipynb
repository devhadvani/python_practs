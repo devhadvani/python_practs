{
 "cells": [
  {
   "cell_type": "markdown",
   "id": "1aba400f",
   "metadata": {},
   "source": [
    "<h1> 😊 Hello world 😊 </h1>"
   ]
  },
  {
   "cell_type": "code",
   "execution_count": 1,
   "id": "8db7cd03",
   "metadata": {},
   "outputs": [
    {
     "name": "stdout",
     "output_type": "stream",
     "text": [
      "hello world\n"
     ]
    }
   ],
   "source": [
    "print(\"hello world\")"
   ]
  },
  {
   "cell_type": "markdown",
   "id": "84f7f559",
   "metadata": {},
   "source": [
    "<h2>Practical-1</h2>"
   ]
  },
  {
   "cell_type": "markdown",
   "id": "9f2993af",
   "metadata": {},
   "source": [
    "\n",
    "<li>Program 1</li>\n"
   ]
  },
  {
   "cell_type": "code",
   "execution_count": 2,
   "id": "872e8bcf",
   "metadata": {
    "scrolled": true
   },
   "outputs": [
    {
     "name": "stdout",
     "output_type": "stream",
     "text": [
      "Enter name 1: bhavik\n",
      "Enter name 2: prajapati\n",
      "bhavik prajapati\n"
     ]
    }
   ],
   "source": [
    "str1=input(\"Enter name 1: \")\n",
    "str2=input(\"Enter name 2: \")\n",
    "print(str1+\" \"+str2)"
   ]
  },
  {
   "cell_type": "markdown",
   "id": "98630cf6",
   "metadata": {},
   "source": [
    "\n",
    "<li>Program 2</li>\n"
   ]
  },
  {
   "cell_type": "code",
   "execution_count": 3,
   "id": "d373f69e",
   "metadata": {},
   "outputs": [
    {
     "name": "stdout",
     "output_type": "stream",
     "text": [
      "enter date : 27/12/2000\n",
      "2000-12-27 00:00:00\n",
      "21\n",
      "   December 2000\n",
      "Mo Tu We Th Fr Sa Su\n",
      "             1  2  3\n",
      " 4  5  6  7  8  9 10\n",
      "11 12 13 14 15 16 17\n",
      "18 19 20 21 22 23 24\n",
      "25 26 27 28 29 30 31\n",
      "\n"
     ]
    }
   ],
   "source": [
    "\n",
    "from datetime import datetime\n",
    "\n",
    "import calendar\n",
    "def calculateAge(birthDate):\n",
    "    today = date.today()\n",
    "    age = today.year - birthDate.year -((today.month, today.day) <(birthDate.month, birthDate.day))\n",
    "    return age\n",
    "\n",
    "date_string=input(\"enter date : \")\n",
    "\n",
    "# date_string = \"21 June, 2018\"\n",
    "\n",
    "\n",
    "date =datetime.strptime(date_string, '%d/%m/%Y')\n",
    "\n",
    "print(date)\n",
    "print(calculateAge(date))\n",
    "print(calendar.month(date.year,date.month))"
   ]
  },
  {
   "cell_type": "markdown",
   "id": "b81a7e40",
   "metadata": {},
   "source": [
    "<li>Program 3</li>"
   ]
  },
  {
   "cell_type": "code",
   "execution_count": 4,
   "id": "05fa5611",
   "metadata": {},
   "outputs": [
    {
     "name": "stdout",
     "output_type": "stream",
     "text": [
      "Enter value 27\n",
      "The decimal value of 27 is:\n",
      "0b11011 in binary.\n",
      "0o33 in octal.\n",
      "0x1b in hexadecimal.\n"
     ]
    }
   ],
   "source": [
    "dec = int(input(\"Enter value \"))\n",
    "\n",
    "print(\"The decimal value of\", dec, \"is:\")\n",
    "print(bin(dec), \"in binary.\")\n",
    "print(oct(dec), \"in octal.\")\n",
    "print(hex(dec), \"in hexadecimal.\")"
   ]
  },
  {
   "cell_type": "markdown",
   "id": "d7cc2250",
   "metadata": {},
   "source": [
    "<li>Program 4</li>\n"
   ]
  },
  {
   "cell_type": "code",
   "execution_count": null,
   "id": "29d42c2c",
   "metadata": {},
   "outputs": [
    {
     "name": "stdout",
     "output_type": "stream",
     "text": [
      "WELCOME TO A SIMPLE CALCULATOR\n",
      "\n",
      "MENU\n",
      "1. Sum of two Numbers\n",
      "2. Difference between two Numbers\n",
      "3. Product of two Numbers\n",
      "4. Division of two Numbers\n",
      "5. Exit\n",
      "\n",
      "Enter the Choice: 1\n",
      "\n",
      "ADDITION\n",
      "\n",
      "First Number: 10\n",
      "Second Number: 20\n",
      "10 + 20 = 30\n",
      "\n",
      "MENU\n",
      "1. Sum of two Numbers\n",
      "2. Difference between two Numbers\n",
      "3. Product of two Numbers\n",
      "4. Division of two Numbers\n",
      "5. Exit\n"
     ]
    }
   ],
   "source": [
    "def add(a, b):  \n",
    "    sum = a + b  \n",
    "    print(a, \"+\", b, \"=\", sum)  \n",
    "  \n",
    "\n",
    "def subtract(a, b):  \n",
    "    difference = a - b  \n",
    "    print(a, \"-\", b, \"=\", difference)  \n",
    "  \n",
    "\n",
    "def multiply(a, b):  \n",
    "    product = a * b  \n",
    "    print(a, \"x\", b, \"=\", product)  \n",
    "  \n",
    "\n",
    "def divide(a, b):  \n",
    "    division = a / b  \n",
    "    print(a, \"/\", b, \"=\", division)  \n",
    "  \n",
    "\n",
    "print(\"WELCOME TO A SIMPLE CALCULATOR\")  \n",
    "  \n",
    "\n",
    "while True:  \n",
    "    print(\"\\nMENU\")  \n",
    "    print(\"1. Sum of two Numbers\")  \n",
    "    print(\"2. Difference between two Numbers\")  \n",
    "    print(\"3. Product of two Numbers\")  \n",
    "    print(\"4. Division of two Numbers\")  \n",
    "    print(\"5. Exit\")  \n",
    "    choice = int(input(\"\\nEnter the Choice: \"))  \n",
    "  \n",
    "\n",
    "    if choice == 1:  \n",
    "        print( \"\\nADDITION\\n\")  \n",
    "        a = int( input(\"First Number: \"))  \n",
    "        b = int( input(\"Second Number: \"))  \n",
    "        add(a, b)  \n",
    "  \n",
    "    elif choice == 2:  \n",
    "        print( \"\\nSUBTRACTION\\n\")  \n",
    "        a = int( input(\"First Number: \"))  \n",
    "        b = int( input(\"Second Number: \"))  \n",
    "        subtract(a, b)  \n",
    "  \n",
    "    elif choice == 3:  \n",
    "        print( \"\\nMULTIPLICATION\\n\")  \n",
    "        a = int( input(\"First Number: \"))  \n",
    "        b = int( input(\"Second Number: \"))  \n",
    "        multiply(a, b)  \n",
    "  \n",
    "    elif choice == 4:  \n",
    "        print( \"\\nDIVISION\\n\")  \n",
    "        a = int( input(\"First Number: \"))  \n",
    "        b = int( input(\"Second Number: \"))  \n",
    "        divide(a, b)  \n",
    "  \n",
    "    elif choice == 5:  \n",
    "        break  \n",
    "      \n",
    "    else:  \n",
    "        print( \"Please Provide a valid Input!\")  "
   ]
  },
  {
   "cell_type": "code",
   "execution_count": null,
   "id": "9554fae2",
   "metadata": {},
   "outputs": [],
   "source": []
  }
 ],
 "metadata": {
  "kernelspec": {
   "display_name": "Python 3 (ipykernel)",
   "language": "python",
   "name": "python3"
  },
  "language_info": {
   "codemirror_mode": {
    "name": "ipython",
    "version": 3
   },
   "file_extension": ".py",
   "mimetype": "text/x-python",
   "name": "python",
   "nbconvert_exporter": "python",
   "pygments_lexer": "ipython3",
   "version": "3.9.12"
  }
 },
 "nbformat": 4,
 "nbformat_minor": 5
}
