{
 "cells": [
  {
   "cell_type": "markdown",
   "id": "8f496897",
   "metadata": {},
   "source": [
    "<h1> 😊 Hello world 😊 </h1>"
   ]
  },
  {
   "cell_type": "code",
   "execution_count": 3,
   "id": "473981f2",
   "metadata": {},
   "outputs": [
    {
     "name": "stdout",
     "output_type": "stream",
     "text": [
      "hello world\n"
     ]
    }
   ],
   "source": [
    "print(\"hello world\")"
   ]
  },
  {
   "cell_type": "markdown",
   "id": "ab658d8b",
   "metadata": {},
   "source": [
    "<h2>Practical-1</h2>"
   ]
  },
  {
   "cell_type": "markdown",
   "id": "d156db0b",
   "metadata": {},
   "source": [
    "\n",
    "<li>Program 1</li>\n"
   ]
  },
  {
   "cell_type": "code",
   "execution_count": 10,
   "id": "346d2fbf",
   "metadata": {
    "scrolled": true
   },
   "outputs": [
    {
     "name": "stdout",
     "output_type": "stream",
     "text": [
      "Enter name 1: bhavik\n",
      "Enter name 2: dev\n",
      "bhavik dev\n"
     ]
    }
   ],
   "source": [
    "str1=input(\"Enter name 1: \")\n",
    "str2=input(\"Enter name 2: \")\n",
    "print(str1+\" \"+str2)"
   ]
  },
  {
   "cell_type": "markdown",
   "id": "0e3324b3",
   "metadata": {},
   "source": [
    "\n",
    "<li>Program 2</li>\n"
   ]
  },
  {
   "cell_type": "code",
   "execution_count": 42,
   "id": "f1fd5889",
   "metadata": {},
   "outputs": [
    {
     "name": "stdout",
     "output_type": "stream",
     "text": [
      "enter date : 23/june/2000\n",
      "2000-06-23 00:00:00\n",
      "22\n",
      "     June 2000\n",
      "Mo Tu We Th Fr Sa Su\n",
      "          1  2  3  4\n",
      " 5  6  7  8  9 10 11\n",
      "12 13 14 15 16 17 18\n",
      "19 20 21 22 23 24 25\n",
      "26 27 28 29 30\n",
      "\n"
     ]
    }
   ],
   "source": [
    "\n",
    "from datetime import datetime\n",
    "\n",
    "import calendar\n",
    "def calculateAge(birthDate):\n",
    "    today = date.today()\n",
    "    age = today.year - birthDate.year -((today.month, today.day) <(birthDate.month, birthDate.day))\n",
    "    return age\n",
    "\n",
    "date_string=input(\"enter date : \")\n",
    "# date_string = \"21 June, 2018\"\n",
    "\n",
    "\n",
    "date =datetime.strptime(date_string, '%d/%m/%Y')\n",
    "\n",
    "print(date)\n",
    "print(calculateAge(date))\n",
    "print(calendar.month(date.year,date.month))"
   ]
  },
  {
   "cell_type": "code",
   "execution_count": null,
   "id": "1b4b0575",
   "metadata": {},
   "outputs": [],
   "source": []
  }
 ],
 "metadata": {
  "kernelspec": {
   "display_name": "Python 3 (ipykernel)",
   "language": "python",
   "name": "python3"
  },
  "language_info": {
   "codemirror_mode": {
    "name": "ipython",
    "version": 3
   },
   "file_extension": ".py",
   "mimetype": "text/x-python",
   "name": "python",
   "nbconvert_exporter": "python",
   "pygments_lexer": "ipython3",
   "version": "3.9.12"
  }
 },
 "nbformat": 4,
 "nbformat_minor": 5
}
